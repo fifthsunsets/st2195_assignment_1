{
 "cells": [
  {
   "cell_type": "markdown",
   "id": "92136ba2",
   "metadata": {},
   "source": [
    "# st2195_assignment_1\n",
    "\n",
    "### name : anggun\n",
    "### date : 06-10-2023"
   ]
  },
  {
   "cell_type": "markdown",
   "id": "4e040481",
   "metadata": {},
   "source": [
    "## printing 1 to 10\n",
    "\n",
    "the codes below will print the numbers **1 to 10**"
   ]
  },
  {
   "cell_type": "code",
   "execution_count": 1,
   "id": "c94b6cfe",
   "metadata": {},
   "outputs": [
    {
     "name": "stdout",
     "output_type": "stream",
     "text": [
      "1\n",
      "2\n",
      "3\n",
      "4\n",
      "5\n",
      "6\n",
      "7\n",
      "8\n",
      "9\n",
      "10\n"
     ]
    }
   ],
   "source": [
    "print (1)\n",
    "print (2)\n",
    "print (3)\n",
    "print (4)\n",
    "print (5)\n",
    "print (6)\n",
    "print (7)\n",
    "print (8)\n",
    "print (9)\n",
    "print (10)"
   ]
  },
  {
   "cell_type": "markdown",
   "id": "b758b5df",
   "metadata": {},
   "source": [
    "## using for loop\n",
    "\n",
    "the codes below uses for loop"
   ]
  },
  {
   "cell_type": "code",
   "execution_count": 2,
   "id": "e63766df",
   "metadata": {},
   "outputs": [
    {
     "name": "stdout",
     "output_type": "stream",
     "text": [
      "1\n",
      "2\n",
      "3\n",
      "4\n",
      "5\n",
      "6\n",
      "7\n",
      "8\n",
      "9\n",
      "10\n"
     ]
    }
   ],
   "source": [
    "for i in range(1,11):\n",
    "    print(i)"
   ]
  },
  {
   "cell_type": "code",
   "execution_count": null,
   "id": "75620238",
   "metadata": {},
   "outputs": [],
   "source": []
  }
 ],
 "metadata": {
  "kernelspec": {
   "display_name": "Python 3 (ipykernel)",
   "language": "python",
   "name": "python3"
  },
  "language_info": {
   "codemirror_mode": {
    "name": "ipython",
    "version": 3
   },
   "file_extension": ".py",
   "mimetype": "text/x-python",
   "name": "python",
   "nbconvert_exporter": "python",
   "pygments_lexer": "ipython3",
   "version": "3.9.12"
  }
 },
 "nbformat": 4,
 "nbformat_minor": 5
}
